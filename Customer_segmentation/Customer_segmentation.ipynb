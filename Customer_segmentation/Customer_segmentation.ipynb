{
 "cells": [
  {
   "cell_type": "markdown",
   "id": "6e7947f4",
   "metadata": {},
   "source": [
    "* In the dataset there is no label column is available and from the problem statement it is clearly visible that it is a unsupervised learning problem where we need to segmentise the customer.\n",
    "* Here we will use RFM (Recency, Frequency and Monetary) analysis + K-Mean clustering for the customer segemenataion."
   ]
  },
  {
   "cell_type": "code",
   "execution_count": 1,
   "id": "40e51233",
   "metadata": {},
   "outputs": [],
   "source": [
    "#Libraries\n",
    "import numpy as np\n",
    "import pandas as pd\n",
    "import seaborn as sns\n",
    "import datetime as dt\n",
    "import matplotlib.pyplot  as plt\n",
    "\n",
    "import sklearn\n",
    "from sklearn.preprocessing import StandardScaler\n",
    "from sklearn.cluster import KMeans\n",
    "from sklearn.metrics import silhouette_score"
   ]
  },
  {
   "cell_type": "markdown",
   "id": "f27ea304",
   "metadata": {},
   "source": [
    "## DATA COLLECTION"
   ]
  },
  {
   "cell_type": "code",
   "execution_count": 2,
   "id": "9017988a",
   "metadata": {},
   "outputs": [
    {
     "data": {
      "text/html": [
       "<div>\n",
       "<style scoped>\n",
       "    .dataframe tbody tr th:only-of-type {\n",
       "        vertical-align: middle;\n",
       "    }\n",
       "\n",
       "    .dataframe tbody tr th {\n",
       "        vertical-align: top;\n",
       "    }\n",
       "\n",
       "    .dataframe thead th {\n",
       "        text-align: right;\n",
       "    }\n",
       "</style>\n",
       "<table border=\"1\" class=\"dataframe\">\n",
       "  <thead>\n",
       "    <tr style=\"text-align: right;\">\n",
       "      <th></th>\n",
       "      <th>InvoiceNo</th>\n",
       "      <th>StockCode</th>\n",
       "      <th>Description</th>\n",
       "      <th>Quantity</th>\n",
       "      <th>InvoiceDate</th>\n",
       "      <th>UnitPrice</th>\n",
       "      <th>CustomerID</th>\n",
       "      <th>Country</th>\n",
       "    </tr>\n",
       "  </thead>\n",
       "  <tbody>\n",
       "    <tr>\n",
       "      <th>0</th>\n",
       "      <td>536365</td>\n",
       "      <td>85123A</td>\n",
       "      <td>WHITE HANGING HEART T-LIGHT HOLDER</td>\n",
       "      <td>6</td>\n",
       "      <td>12-01-2010 08:26</td>\n",
       "      <td>2.55</td>\n",
       "      <td>17850.0</td>\n",
       "      <td>United Kingdom</td>\n",
       "    </tr>\n",
       "    <tr>\n",
       "      <th>1</th>\n",
       "      <td>536365</td>\n",
       "      <td>71053</td>\n",
       "      <td>WHITE METAL LANTERN</td>\n",
       "      <td>6</td>\n",
       "      <td>12-01-2010 08:26</td>\n",
       "      <td>3.39</td>\n",
       "      <td>17850.0</td>\n",
       "      <td>United Kingdom</td>\n",
       "    </tr>\n",
       "    <tr>\n",
       "      <th>2</th>\n",
       "      <td>536365</td>\n",
       "      <td>84406B</td>\n",
       "      <td>CREAM CUPID HEARTS COAT HANGER</td>\n",
       "      <td>8</td>\n",
       "      <td>12-01-2010 08:26</td>\n",
       "      <td>2.75</td>\n",
       "      <td>17850.0</td>\n",
       "      <td>United Kingdom</td>\n",
       "    </tr>\n",
       "    <tr>\n",
       "      <th>3</th>\n",
       "      <td>536365</td>\n",
       "      <td>84029G</td>\n",
       "      <td>KNITTED UNION FLAG HOT WATER BOTTLE</td>\n",
       "      <td>6</td>\n",
       "      <td>12-01-2010 08:26</td>\n",
       "      <td>3.39</td>\n",
       "      <td>17850.0</td>\n",
       "      <td>United Kingdom</td>\n",
       "    </tr>\n",
       "    <tr>\n",
       "      <th>4</th>\n",
       "      <td>536365</td>\n",
       "      <td>84029E</td>\n",
       "      <td>RED WOOLLY HOTTIE WHITE HEART.</td>\n",
       "      <td>6</td>\n",
       "      <td>12-01-2010 08:26</td>\n",
       "      <td>3.39</td>\n",
       "      <td>17850.0</td>\n",
       "      <td>United Kingdom</td>\n",
       "    </tr>\n",
       "  </tbody>\n",
       "</table>\n",
       "</div>"
      ],
      "text/plain": [
       "  InvoiceNo StockCode                          Description  Quantity  \\\n",
       "0    536365    85123A   WHITE HANGING HEART T-LIGHT HOLDER         6   \n",
       "1    536365     71053                  WHITE METAL LANTERN         6   \n",
       "2    536365    84406B       CREAM CUPID HEARTS COAT HANGER         8   \n",
       "3    536365    84029G  KNITTED UNION FLAG HOT WATER BOTTLE         6   \n",
       "4    536365    84029E       RED WOOLLY HOTTIE WHITE HEART.         6   \n",
       "\n",
       "        InvoiceDate  UnitPrice  CustomerID         Country  \n",
       "0  12-01-2010 08:26       2.55     17850.0  United Kingdom  \n",
       "1  12-01-2010 08:26       3.39     17850.0  United Kingdom  \n",
       "2  12-01-2010 08:26       2.75     17850.0  United Kingdom  \n",
       "3  12-01-2010 08:26       3.39     17850.0  United Kingdom  \n",
       "4  12-01-2010 08:26       3.39     17850.0  United Kingdom  "
      ]
     },
     "execution_count": 2,
     "metadata": {},
     "output_type": "execute_result"
    }
   ],
   "source": [
    "df=pd.read_csv('data.csv',encoding= 'unicode_escape')\n",
    "df.head()"
   ]
  },
  {
   "cell_type": "markdown",
   "id": "b09c1d31",
   "metadata": {},
   "source": [
    "# EDA"
   ]
  },
  {
   "cell_type": "markdown",
   "id": "2084531d",
   "metadata": {},
   "source": [
    "## DATA CLEANING"
   ]
  },
  {
   "cell_type": "code",
   "execution_count": 3,
   "id": "719b384e",
   "metadata": {},
   "outputs": [
    {
     "data": {
      "text/plain": [
       "(541909, 8)"
      ]
     },
     "execution_count": 3,
     "metadata": {},
     "output_type": "execute_result"
    }
   ],
   "source": [
    "df.shape"
   ]
  },
  {
   "cell_type": "code",
   "execution_count": 4,
   "id": "84025807",
   "metadata": {},
   "outputs": [
    {
     "data": {
      "text/plain": [
       "InvoiceNo           0\n",
       "StockCode           0\n",
       "Description      1454\n",
       "Quantity            0\n",
       "InvoiceDate         0\n",
       "UnitPrice           0\n",
       "CustomerID     135080\n",
       "Country             0\n",
       "dtype: int64"
      ]
     },
     "execution_count": 4,
     "metadata": {},
     "output_type": "execute_result"
    }
   ],
   "source": [
    "df.isnull().sum()"
   ]
  },
  {
   "cell_type": "markdown",
   "id": "67e867ad",
   "metadata": {},
   "source": [
    "* Droping of null values:\n",
    "<ul>\n",
    "  <li> I am droping the null values becasuse without customer id we can't track the customer & without the description it is not possible to know what product they are buying. So we don't need these rows. if i will not remove it will affect my analysis.\n",
    "<ul>"
   ]
  },
  {
   "cell_type": "code",
   "execution_count": 5,
   "id": "b7c80014",
   "metadata": {},
   "outputs": [
    {
     "data": {
      "text/plain": [
       "InvoiceNo      0\n",
       "StockCode      0\n",
       "Description    0\n",
       "Quantity       0\n",
       "InvoiceDate    0\n",
       "UnitPrice      0\n",
       "CustomerID     0\n",
       "Country        0\n",
       "dtype: int64"
      ]
     },
     "execution_count": 5,
     "metadata": {},
     "output_type": "execute_result"
    }
   ],
   "source": [
    "df.dropna(inplace=True)\n",
    "df.isnull().sum()"
   ]
  },
  {
   "cell_type": "markdown",
   "id": "8a7c2318",
   "metadata": {},
   "source": [
    "* In the dataset only price and quantity is available but total price is not available so i am adding one column Amount which will calculate total price. Total price= UnitPrice * Quantity"
   ]
  },
  {
   "cell_type": "code",
   "execution_count": 6,
   "id": "4b08dc76",
   "metadata": {},
   "outputs": [],
   "source": [
    "df['Amount']=df['Quantity']*df['UnitPrice']"
   ]
  },
  {
   "cell_type": "code",
   "execution_count": 7,
   "id": "8d3a26cd",
   "metadata": {},
   "outputs": [
    {
     "data": {
      "text/plain": [
       "Index(['InvoiceNo', 'StockCode', 'Description', 'Quantity', 'InvoiceDate',\n",
       "       'UnitPrice', 'CustomerID', 'Country', 'Amount'],\n",
       "      dtype='object')"
      ]
     },
     "execution_count": 7,
     "metadata": {},
     "output_type": "execute_result"
    }
   ],
   "source": [
    "df.columns"
   ]
  },
  {
   "cell_type": "code",
   "execution_count": 8,
   "id": "6317b2ad",
   "metadata": {},
   "outputs": [
    {
     "data": {
      "text/plain": [
       "17841.0    7983\n",
       "14911.0    5903\n",
       "14096.0    5128\n",
       "12748.0    4642\n",
       "14606.0    2782\n",
       "           ... \n",
       "15070.0       1\n",
       "15753.0       1\n",
       "17065.0       1\n",
       "16881.0       1\n",
       "16995.0       1\n",
       "Name: CustomerID, Length: 4372, dtype: int64"
      ]
     },
     "execution_count": 8,
     "metadata": {},
     "output_type": "execute_result"
    }
   ],
   "source": [
    "df['CustomerID'].value_counts()"
   ]
  },
  {
   "cell_type": "code",
   "execution_count": 9,
   "id": "47e0e63c",
   "metadata": {},
   "outputs": [
    {
     "name": "stdout",
     "output_type": "stream",
     "text": [
      "<class 'pandas.core.frame.DataFrame'>\n",
      "Int64Index: 406829 entries, 0 to 541908\n",
      "Data columns (total 9 columns):\n",
      " #   Column       Non-Null Count   Dtype  \n",
      "---  ------       --------------   -----  \n",
      " 0   InvoiceNo    406829 non-null  object \n",
      " 1   StockCode    406829 non-null  object \n",
      " 2   Description  406829 non-null  object \n",
      " 3   Quantity     406829 non-null  int64  \n",
      " 4   InvoiceDate  406829 non-null  object \n",
      " 5   UnitPrice    406829 non-null  float64\n",
      " 6   CustomerID   406829 non-null  float64\n",
      " 7   Country      406829 non-null  object \n",
      " 8   Amount       406829 non-null  float64\n",
      "dtypes: float64(3), int64(1), object(5)\n",
      "memory usage: 31.0+ MB\n"
     ]
    }
   ],
   "source": [
    "df.info()"
   ]
  },
  {
   "cell_type": "markdown",
   "id": "d3e51d06",
   "metadata": {},
   "source": [
    "<ul>\n",
    "    <li>Object feature: InvoiceNo,StockCode,Description,InvoiceDate,Country\n",
    "    <li>float/int feature: Quantity, UnitPrice, CustomerID, Amount\n",
    "<ul>"
   ]
  },
  {
   "cell_type": "code",
   "execution_count": 10,
   "id": "5306c6a6",
   "metadata": {},
   "outputs": [
    {
     "data": {
      "text/html": [
       "<div>\n",
       "<style scoped>\n",
       "    .dataframe tbody tr th:only-of-type {\n",
       "        vertical-align: middle;\n",
       "    }\n",
       "\n",
       "    .dataframe tbody tr th {\n",
       "        vertical-align: top;\n",
       "    }\n",
       "\n",
       "    .dataframe thead th {\n",
       "        text-align: right;\n",
       "    }\n",
       "</style>\n",
       "<table border=\"1\" class=\"dataframe\">\n",
       "  <thead>\n",
       "    <tr style=\"text-align: right;\">\n",
       "      <th></th>\n",
       "      <th>Quantity</th>\n",
       "      <th>UnitPrice</th>\n",
       "      <th>CustomerID</th>\n",
       "      <th>Amount</th>\n",
       "    </tr>\n",
       "  </thead>\n",
       "  <tbody>\n",
       "    <tr>\n",
       "      <th>count</th>\n",
       "      <td>406829.000000</td>\n",
       "      <td>406829.000000</td>\n",
       "      <td>406829.000000</td>\n",
       "      <td>406829.000000</td>\n",
       "    </tr>\n",
       "    <tr>\n",
       "      <th>mean</th>\n",
       "      <td>12.061303</td>\n",
       "      <td>3.460471</td>\n",
       "      <td>15287.690570</td>\n",
       "      <td>20.401854</td>\n",
       "    </tr>\n",
       "    <tr>\n",
       "      <th>std</th>\n",
       "      <td>248.693370</td>\n",
       "      <td>69.315162</td>\n",
       "      <td>1713.600303</td>\n",
       "      <td>427.591718</td>\n",
       "    </tr>\n",
       "    <tr>\n",
       "      <th>min</th>\n",
       "      <td>-80995.000000</td>\n",
       "      <td>0.000000</td>\n",
       "      <td>12346.000000</td>\n",
       "      <td>-168469.600000</td>\n",
       "    </tr>\n",
       "    <tr>\n",
       "      <th>25%</th>\n",
       "      <td>2.000000</td>\n",
       "      <td>1.250000</td>\n",
       "      <td>13953.000000</td>\n",
       "      <td>4.200000</td>\n",
       "    </tr>\n",
       "    <tr>\n",
       "      <th>50%</th>\n",
       "      <td>5.000000</td>\n",
       "      <td>1.950000</td>\n",
       "      <td>15152.000000</td>\n",
       "      <td>11.100000</td>\n",
       "    </tr>\n",
       "    <tr>\n",
       "      <th>75%</th>\n",
       "      <td>12.000000</td>\n",
       "      <td>3.750000</td>\n",
       "      <td>16791.000000</td>\n",
       "      <td>19.500000</td>\n",
       "    </tr>\n",
       "    <tr>\n",
       "      <th>max</th>\n",
       "      <td>80995.000000</td>\n",
       "      <td>38970.000000</td>\n",
       "      <td>18287.000000</td>\n",
       "      <td>168469.600000</td>\n",
       "    </tr>\n",
       "  </tbody>\n",
       "</table>\n",
       "</div>"
      ],
      "text/plain": [
       "            Quantity      UnitPrice     CustomerID         Amount\n",
       "count  406829.000000  406829.000000  406829.000000  406829.000000\n",
       "mean       12.061303       3.460471   15287.690570      20.401854\n",
       "std       248.693370      69.315162    1713.600303     427.591718\n",
       "min    -80995.000000       0.000000   12346.000000 -168469.600000\n",
       "25%         2.000000       1.250000   13953.000000       4.200000\n",
       "50%         5.000000       1.950000   15152.000000      11.100000\n",
       "75%        12.000000       3.750000   16791.000000      19.500000\n",
       "max     80995.000000   38970.000000   18287.000000  168469.600000"
      ]
     },
     "execution_count": 10,
     "metadata": {},
     "output_type": "execute_result"
    }
   ],
   "source": [
    "df.describe()"
   ]
  },
  {
   "cell_type": "markdown",
   "id": "650d5179",
   "metadata": {},
   "source": [
    "* In the quanitity and Amount columns we are getting the negative values which is not making any conclusion so i am removing these values"
   ]
  },
  {
   "cell_type": "code",
   "execution_count": 11,
   "id": "bd45b100",
   "metadata": {},
   "outputs": [],
   "source": [
    "df1=df[df['Quantity']>0]"
   ]
  },
  {
   "cell_type": "code",
   "execution_count": 12,
   "id": "ca591bc6",
   "metadata": {},
   "outputs": [
    {
     "data": {
      "text/html": [
       "<div>\n",
       "<style scoped>\n",
       "    .dataframe tbody tr th:only-of-type {\n",
       "        vertical-align: middle;\n",
       "    }\n",
       "\n",
       "    .dataframe tbody tr th {\n",
       "        vertical-align: top;\n",
       "    }\n",
       "\n",
       "    .dataframe thead th {\n",
       "        text-align: right;\n",
       "    }\n",
       "</style>\n",
       "<table border=\"1\" class=\"dataframe\">\n",
       "  <thead>\n",
       "    <tr style=\"text-align: right;\">\n",
       "      <th></th>\n",
       "      <th>Quantity</th>\n",
       "      <th>UnitPrice</th>\n",
       "      <th>CustomerID</th>\n",
       "      <th>Amount</th>\n",
       "    </tr>\n",
       "  </thead>\n",
       "  <tbody>\n",
       "    <tr>\n",
       "      <th>count</th>\n",
       "      <td>397924.000000</td>\n",
       "      <td>397924.000000</td>\n",
       "      <td>397924.000000</td>\n",
       "      <td>397924.000000</td>\n",
       "    </tr>\n",
       "    <tr>\n",
       "      <th>mean</th>\n",
       "      <td>13.021823</td>\n",
       "      <td>3.116174</td>\n",
       "      <td>15294.315171</td>\n",
       "      <td>22.394749</td>\n",
       "    </tr>\n",
       "    <tr>\n",
       "      <th>std</th>\n",
       "      <td>180.420210</td>\n",
       "      <td>22.096788</td>\n",
       "      <td>1713.169877</td>\n",
       "      <td>309.055588</td>\n",
       "    </tr>\n",
       "    <tr>\n",
       "      <th>min</th>\n",
       "      <td>1.000000</td>\n",
       "      <td>0.000000</td>\n",
       "      <td>12346.000000</td>\n",
       "      <td>0.000000</td>\n",
       "    </tr>\n",
       "    <tr>\n",
       "      <th>25%</th>\n",
       "      <td>2.000000</td>\n",
       "      <td>1.250000</td>\n",
       "      <td>13969.000000</td>\n",
       "      <td>4.680000</td>\n",
       "    </tr>\n",
       "    <tr>\n",
       "      <th>50%</th>\n",
       "      <td>6.000000</td>\n",
       "      <td>1.950000</td>\n",
       "      <td>15159.000000</td>\n",
       "      <td>11.800000</td>\n",
       "    </tr>\n",
       "    <tr>\n",
       "      <th>75%</th>\n",
       "      <td>12.000000</td>\n",
       "      <td>3.750000</td>\n",
       "      <td>16795.000000</td>\n",
       "      <td>19.800000</td>\n",
       "    </tr>\n",
       "    <tr>\n",
       "      <th>max</th>\n",
       "      <td>80995.000000</td>\n",
       "      <td>8142.750000</td>\n",
       "      <td>18287.000000</td>\n",
       "      <td>168469.600000</td>\n",
       "    </tr>\n",
       "  </tbody>\n",
       "</table>\n",
       "</div>"
      ],
      "text/plain": [
       "            Quantity      UnitPrice     CustomerID         Amount\n",
       "count  397924.000000  397924.000000  397924.000000  397924.000000\n",
       "mean       13.021823       3.116174   15294.315171      22.394749\n",
       "std       180.420210      22.096788    1713.169877     309.055588\n",
       "min         1.000000       0.000000   12346.000000       0.000000\n",
       "25%         2.000000       1.250000   13969.000000       4.680000\n",
       "50%         6.000000       1.950000   15159.000000      11.800000\n",
       "75%        12.000000       3.750000   16795.000000      19.800000\n",
       "max     80995.000000    8142.750000   18287.000000  168469.600000"
      ]
     },
     "execution_count": 12,
     "metadata": {},
     "output_type": "execute_result"
    }
   ],
   "source": [
    "df1.describe()"
   ]
  },
  {
   "cell_type": "markdown",
   "id": "f8fe71d9",
   "metadata": {},
   "source": [
    "## RFM ANALYSIS"
   ]
  },
  {
   "cell_type": "markdown",
   "id": "0c51924a",
   "metadata": {},
   "source": [
    "* RFM metrics plays a vital role in the understanding of the customer behaviour as frequency and monetary value affect a customer’s lifetime value, and recency affects retention, a measure of engagement."
   ]
  },
  {
   "cell_type": "code",
   "execution_count": 13,
   "id": "1d6a4230",
   "metadata": {},
   "outputs": [
    {
     "data": {
      "text/html": [
       "<div>\n",
       "<style scoped>\n",
       "    .dataframe tbody tr th:only-of-type {\n",
       "        vertical-align: middle;\n",
       "    }\n",
       "\n",
       "    .dataframe tbody tr th {\n",
       "        vertical-align: top;\n",
       "    }\n",
       "\n",
       "    .dataframe thead th {\n",
       "        text-align: right;\n",
       "    }\n",
       "</style>\n",
       "<table border=\"1\" class=\"dataframe\">\n",
       "  <thead>\n",
       "    <tr style=\"text-align: right;\">\n",
       "      <th></th>\n",
       "      <th>CustomerID</th>\n",
       "      <th>Amount</th>\n",
       "    </tr>\n",
       "  </thead>\n",
       "  <tbody>\n",
       "    <tr>\n",
       "      <th>0</th>\n",
       "      <td>12346.0</td>\n",
       "      <td>77183.60</td>\n",
       "    </tr>\n",
       "    <tr>\n",
       "      <th>1</th>\n",
       "      <td>12347.0</td>\n",
       "      <td>4310.00</td>\n",
       "    </tr>\n",
       "    <tr>\n",
       "      <th>2</th>\n",
       "      <td>12348.0</td>\n",
       "      <td>1797.24</td>\n",
       "    </tr>\n",
       "    <tr>\n",
       "      <th>3</th>\n",
       "      <td>12349.0</td>\n",
       "      <td>1757.55</td>\n",
       "    </tr>\n",
       "    <tr>\n",
       "      <th>4</th>\n",
       "      <td>12350.0</td>\n",
       "      <td>334.40</td>\n",
       "    </tr>\n",
       "  </tbody>\n",
       "</table>\n",
       "</div>"
      ],
      "text/plain": [
       "   CustomerID    Amount\n",
       "0     12346.0  77183.60\n",
       "1     12347.0   4310.00\n",
       "2     12348.0   1797.24\n",
       "3     12349.0   1757.55\n",
       "4     12350.0    334.40"
      ]
     },
     "execution_count": 13,
     "metadata": {},
     "output_type": "execute_result"
    }
   ],
   "source": [
    "# I want to know the how much each customer spending in purchase by using groupby method\n",
    "monetary = df1.groupby('CustomerID')['Amount'].sum()\n",
    "monetary=monetary.reset_index()\n",
    "monetary.head()"
   ]
  },
  {
   "cell_type": "code",
   "execution_count": 14,
   "id": "3c0434d9",
   "metadata": {},
   "outputs": [
    {
     "data": {
      "text/html": [
       "<div>\n",
       "<style scoped>\n",
       "    .dataframe tbody tr th:only-of-type {\n",
       "        vertical-align: middle;\n",
       "    }\n",
       "\n",
       "    .dataframe tbody tr th {\n",
       "        vertical-align: top;\n",
       "    }\n",
       "\n",
       "    .dataframe thead th {\n",
       "        text-align: right;\n",
       "    }\n",
       "</style>\n",
       "<table border=\"1\" class=\"dataframe\">\n",
       "  <thead>\n",
       "    <tr style=\"text-align: right;\">\n",
       "      <th></th>\n",
       "      <th>CustomerID</th>\n",
       "      <th>InvoiceNo</th>\n",
       "    </tr>\n",
       "  </thead>\n",
       "  <tbody>\n",
       "    <tr>\n",
       "      <th>0</th>\n",
       "      <td>12346.0</td>\n",
       "      <td>1</td>\n",
       "    </tr>\n",
       "    <tr>\n",
       "      <th>1</th>\n",
       "      <td>12347.0</td>\n",
       "      <td>182</td>\n",
       "    </tr>\n",
       "    <tr>\n",
       "      <th>2</th>\n",
       "      <td>12348.0</td>\n",
       "      <td>31</td>\n",
       "    </tr>\n",
       "    <tr>\n",
       "      <th>3</th>\n",
       "      <td>12349.0</td>\n",
       "      <td>73</td>\n",
       "    </tr>\n",
       "    <tr>\n",
       "      <th>4</th>\n",
       "      <td>12350.0</td>\n",
       "      <td>17</td>\n",
       "    </tr>\n",
       "  </tbody>\n",
       "</table>\n",
       "</div>"
      ],
      "text/plain": [
       "   CustomerID  InvoiceNo\n",
       "0     12346.0          1\n",
       "1     12347.0        182\n",
       "2     12348.0         31\n",
       "3     12349.0         73\n",
       "4     12350.0         17"
      ]
     },
     "execution_count": 14,
     "metadata": {},
     "output_type": "execute_result"
    }
   ],
   "source": [
    "frequency=df1.groupby('CustomerID')['InvoiceNo'].count()\n",
    "frequency=frequency.reset_index()\n",
    "frequency.head()"
   ]
  },
  {
   "cell_type": "markdown",
   "id": "dc7f58ed",
   "metadata": {},
   "source": [
    "* Recency is calculated by substracting the very recent date with last transaction date with customer"
   ]
  },
  {
   "cell_type": "code",
   "execution_count": 15,
   "id": "61dd3749",
   "metadata": {},
   "outputs": [
    {
     "name": "stderr",
     "output_type": "stream",
     "text": [
      "C:\\Users\\Srikanta\\AppData\\Local\\Temp\\ipykernel_20472\\563338608.py:1: SettingWithCopyWarning: \n",
      "A value is trying to be set on a copy of a slice from a DataFrame.\n",
      "Try using .loc[row_indexer,col_indexer] = value instead\n",
      "\n",
      "See the caveats in the documentation: https://pandas.pydata.org/pandas-docs/stable/user_guide/indexing.html#returning-a-view-versus-a-copy\n",
      "  df1['InvoiceDate']=pd.to_datetime(df1['InvoiceDate'])\n"
     ]
    }
   ],
   "source": [
    "df1['InvoiceDate']=pd.to_datetime(df1['InvoiceDate'])"
   ]
  },
  {
   "cell_type": "code",
   "execution_count": 16,
   "id": "ba57a205",
   "metadata": {},
   "outputs": [
    {
     "data": {
      "text/plain": [
       "0        2010-12-01 08:26:00\n",
       "1        2010-12-01 08:26:00\n",
       "2        2010-12-01 08:26:00\n",
       "3        2010-12-01 08:26:00\n",
       "4        2010-12-01 08:26:00\n",
       "                 ...        \n",
       "541904   2011-12-09 12:50:00\n",
       "541905   2011-12-09 12:50:00\n",
       "541906   2011-12-09 12:50:00\n",
       "541907   2011-12-09 12:50:00\n",
       "541908   2011-12-09 12:50:00\n",
       "Name: InvoiceDate, Length: 397924, dtype: datetime64[ns]"
      ]
     },
     "execution_count": 16,
     "metadata": {},
     "output_type": "execute_result"
    }
   ],
   "source": [
    "df1['InvoiceDate']"
   ]
  },
  {
   "cell_type": "code",
   "execution_count": 17,
   "id": "443a825a",
   "metadata": {},
   "outputs": [
    {
     "name": "stderr",
     "output_type": "stream",
     "text": [
      "C:\\Users\\Srikanta\\AppData\\Local\\Temp\\ipykernel_20472\\4091361809.py:1: SettingWithCopyWarning: \n",
      "A value is trying to be set on a copy of a slice from a DataFrame.\n",
      "Try using .loc[row_indexer,col_indexer] = value instead\n",
      "\n",
      "See the caveats in the documentation: https://pandas.pydata.org/pandas-docs/stable/user_guide/indexing.html#returning-a-view-versus-a-copy\n",
      "  df1['diff']=max(df1['InvoiceDate'])-df1['InvoiceDate']\n"
     ]
    }
   ],
   "source": [
    "df1['diff']=max(df1['InvoiceDate'])-df1['InvoiceDate']\n",
    "recency=df1.groupby('CustomerID')['diff'].min()"
   ]
  },
  {
   "cell_type": "code",
   "execution_count": 18,
   "id": "6c70fbf0",
   "metadata": {},
   "outputs": [
    {
     "data": {
      "text/html": [
       "<div>\n",
       "<style scoped>\n",
       "    .dataframe tbody tr th:only-of-type {\n",
       "        vertical-align: middle;\n",
       "    }\n",
       "\n",
       "    .dataframe tbody tr th {\n",
       "        vertical-align: top;\n",
       "    }\n",
       "\n",
       "    .dataframe thead th {\n",
       "        text-align: right;\n",
       "    }\n",
       "</style>\n",
       "<table border=\"1\" class=\"dataframe\">\n",
       "  <thead>\n",
       "    <tr style=\"text-align: right;\">\n",
       "      <th></th>\n",
       "      <th>CustomerID</th>\n",
       "      <th>diff</th>\n",
       "    </tr>\n",
       "  </thead>\n",
       "  <tbody>\n",
       "    <tr>\n",
       "      <th>0</th>\n",
       "      <td>12346.0</td>\n",
       "      <td>325 days 02:49:00</td>\n",
       "    </tr>\n",
       "    <tr>\n",
       "      <th>1</th>\n",
       "      <td>12347.0</td>\n",
       "      <td>1 days 20:58:00</td>\n",
       "    </tr>\n",
       "    <tr>\n",
       "      <th>2</th>\n",
       "      <td>12348.0</td>\n",
       "      <td>74 days 23:37:00</td>\n",
       "    </tr>\n",
       "    <tr>\n",
       "      <th>3</th>\n",
       "      <td>12349.0</td>\n",
       "      <td>18 days 02:59:00</td>\n",
       "    </tr>\n",
       "    <tr>\n",
       "      <th>4</th>\n",
       "      <td>12350.0</td>\n",
       "      <td>309 days 20:49:00</td>\n",
       "    </tr>\n",
       "  </tbody>\n",
       "</table>\n",
       "</div>"
      ],
      "text/plain": [
       "   CustomerID              diff\n",
       "0     12346.0 325 days 02:49:00\n",
       "1     12347.0   1 days 20:58:00\n",
       "2     12348.0  74 days 23:37:00\n",
       "3     12349.0  18 days 02:59:00\n",
       "4     12350.0 309 days 20:49:00"
      ]
     },
     "execution_count": 18,
     "metadata": {},
     "output_type": "execute_result"
    }
   ],
   "source": [
    "recency=recency.reset_index()\n",
    "recency.head()"
   ]
  },
  {
   "cell_type": "code",
   "execution_count": 19,
   "id": "013406df",
   "metadata": {},
   "outputs": [],
   "source": [
    "recency['diff']=recency['diff'].dt.days"
   ]
  },
  {
   "cell_type": "code",
   "execution_count": 20,
   "id": "7f99aba4",
   "metadata": {},
   "outputs": [
    {
     "data": {
      "text/html": [
       "<div>\n",
       "<style scoped>\n",
       "    .dataframe tbody tr th:only-of-type {\n",
       "        vertical-align: middle;\n",
       "    }\n",
       "\n",
       "    .dataframe tbody tr th {\n",
       "        vertical-align: top;\n",
       "    }\n",
       "\n",
       "    .dataframe thead th {\n",
       "        text-align: right;\n",
       "    }\n",
       "</style>\n",
       "<table border=\"1\" class=\"dataframe\">\n",
       "  <thead>\n",
       "    <tr style=\"text-align: right;\">\n",
       "      <th></th>\n",
       "      <th>CustomerID</th>\n",
       "      <th>diff</th>\n",
       "    </tr>\n",
       "  </thead>\n",
       "  <tbody>\n",
       "    <tr>\n",
       "      <th>0</th>\n",
       "      <td>12346.0</td>\n",
       "      <td>325</td>\n",
       "    </tr>\n",
       "    <tr>\n",
       "      <th>1</th>\n",
       "      <td>12347.0</td>\n",
       "      <td>1</td>\n",
       "    </tr>\n",
       "    <tr>\n",
       "      <th>2</th>\n",
       "      <td>12348.0</td>\n",
       "      <td>74</td>\n",
       "    </tr>\n",
       "    <tr>\n",
       "      <th>3</th>\n",
       "      <td>12349.0</td>\n",
       "      <td>18</td>\n",
       "    </tr>\n",
       "    <tr>\n",
       "      <th>4</th>\n",
       "      <td>12350.0</td>\n",
       "      <td>309</td>\n",
       "    </tr>\n",
       "  </tbody>\n",
       "</table>\n",
       "</div>"
      ],
      "text/plain": [
       "   CustomerID  diff\n",
       "0     12346.0   325\n",
       "1     12347.0     1\n",
       "2     12348.0    74\n",
       "3     12349.0    18\n",
       "4     12350.0   309"
      ]
     },
     "execution_count": 20,
     "metadata": {},
     "output_type": "execute_result"
    }
   ],
   "source": [
    "recency.head()"
   ]
  },
  {
   "cell_type": "markdown",
   "id": "b73607ae",
   "metadata": {},
   "source": [
    "* We have calculated recency, frequecy & monetary now to merge all the result for better understanding"
   ]
  },
  {
   "cell_type": "code",
   "execution_count": 21,
   "id": "b18d2f19",
   "metadata": {},
   "outputs": [],
   "source": [
    "rfm=pd.merge(recency,frequency,on='CustomerID', how='inner')\n",
    "rfm=pd.merge(rfm,monetary,on='CustomerID', how='inner')"
   ]
  },
  {
   "cell_type": "code",
   "execution_count": 22,
   "id": "4f73efec",
   "metadata": {},
   "outputs": [
    {
     "data": {
      "text/html": [
       "<div>\n",
       "<style scoped>\n",
       "    .dataframe tbody tr th:only-of-type {\n",
       "        vertical-align: middle;\n",
       "    }\n",
       "\n",
       "    .dataframe tbody tr th {\n",
       "        vertical-align: top;\n",
       "    }\n",
       "\n",
       "    .dataframe thead th {\n",
       "        text-align: right;\n",
       "    }\n",
       "</style>\n",
       "<table border=\"1\" class=\"dataframe\">\n",
       "  <thead>\n",
       "    <tr style=\"text-align: right;\">\n",
       "      <th></th>\n",
       "      <th>CustomerID</th>\n",
       "      <th>diff</th>\n",
       "      <th>InvoiceNo</th>\n",
       "      <th>Amount</th>\n",
       "    </tr>\n",
       "  </thead>\n",
       "  <tbody>\n",
       "    <tr>\n",
       "      <th>0</th>\n",
       "      <td>12346.0</td>\n",
       "      <td>325</td>\n",
       "      <td>1</td>\n",
       "      <td>77183.60</td>\n",
       "    </tr>\n",
       "    <tr>\n",
       "      <th>1</th>\n",
       "      <td>12347.0</td>\n",
       "      <td>1</td>\n",
       "      <td>182</td>\n",
       "      <td>4310.00</td>\n",
       "    </tr>\n",
       "    <tr>\n",
       "      <th>2</th>\n",
       "      <td>12348.0</td>\n",
       "      <td>74</td>\n",
       "      <td>31</td>\n",
       "      <td>1797.24</td>\n",
       "    </tr>\n",
       "    <tr>\n",
       "      <th>3</th>\n",
       "      <td>12349.0</td>\n",
       "      <td>18</td>\n",
       "      <td>73</td>\n",
       "      <td>1757.55</td>\n",
       "    </tr>\n",
       "    <tr>\n",
       "      <th>4</th>\n",
       "      <td>12350.0</td>\n",
       "      <td>309</td>\n",
       "      <td>17</td>\n",
       "      <td>334.40</td>\n",
       "    </tr>\n",
       "    <tr>\n",
       "      <th>...</th>\n",
       "      <td>...</td>\n",
       "      <td>...</td>\n",
       "      <td>...</td>\n",
       "      <td>...</td>\n",
       "    </tr>\n",
       "    <tr>\n",
       "      <th>4334</th>\n",
       "      <td>18280.0</td>\n",
       "      <td>277</td>\n",
       "      <td>10</td>\n",
       "      <td>180.60</td>\n",
       "    </tr>\n",
       "    <tr>\n",
       "      <th>4335</th>\n",
       "      <td>18281.0</td>\n",
       "      <td>180</td>\n",
       "      <td>7</td>\n",
       "      <td>80.82</td>\n",
       "    </tr>\n",
       "    <tr>\n",
       "      <th>4336</th>\n",
       "      <td>18282.0</td>\n",
       "      <td>7</td>\n",
       "      <td>12</td>\n",
       "      <td>178.05</td>\n",
       "    </tr>\n",
       "    <tr>\n",
       "      <th>4337</th>\n",
       "      <td>18283.0</td>\n",
       "      <td>3</td>\n",
       "      <td>756</td>\n",
       "      <td>2094.88</td>\n",
       "    </tr>\n",
       "    <tr>\n",
       "      <th>4338</th>\n",
       "      <td>18287.0</td>\n",
       "      <td>42</td>\n",
       "      <td>70</td>\n",
       "      <td>1837.28</td>\n",
       "    </tr>\n",
       "  </tbody>\n",
       "</table>\n",
       "<p>4339 rows × 4 columns</p>\n",
       "</div>"
      ],
      "text/plain": [
       "      CustomerID  diff  InvoiceNo    Amount\n",
       "0        12346.0   325          1  77183.60\n",
       "1        12347.0     1        182   4310.00\n",
       "2        12348.0    74         31   1797.24\n",
       "3        12349.0    18         73   1757.55\n",
       "4        12350.0   309         17    334.40\n",
       "...          ...   ...        ...       ...\n",
       "4334     18280.0   277         10    180.60\n",
       "4335     18281.0   180          7     80.82\n",
       "4336     18282.0     7         12    178.05\n",
       "4337     18283.0     3        756   2094.88\n",
       "4338     18287.0    42         70   1837.28\n",
       "\n",
       "[4339 rows x 4 columns]"
      ]
     },
     "execution_count": 22,
     "metadata": {},
     "output_type": "execute_result"
    }
   ],
   "source": [
    "rfm"
   ]
  },
  {
   "cell_type": "code",
   "execution_count": 23,
   "id": "246c9d5e",
   "metadata": {},
   "outputs": [],
   "source": [
    "rfm.columns=['CustomerId','Recency','Frequency','Monetary']"
   ]
  },
  {
   "cell_type": "code",
   "execution_count": 24,
   "id": "d8507a0c",
   "metadata": {},
   "outputs": [
    {
     "data": {
      "text/html": [
       "<div>\n",
       "<style scoped>\n",
       "    .dataframe tbody tr th:only-of-type {\n",
       "        vertical-align: middle;\n",
       "    }\n",
       "\n",
       "    .dataframe tbody tr th {\n",
       "        vertical-align: top;\n",
       "    }\n",
       "\n",
       "    .dataframe thead th {\n",
       "        text-align: right;\n",
       "    }\n",
       "</style>\n",
       "<table border=\"1\" class=\"dataframe\">\n",
       "  <thead>\n",
       "    <tr style=\"text-align: right;\">\n",
       "      <th></th>\n",
       "      <th>CustomerId</th>\n",
       "      <th>Recency</th>\n",
       "      <th>Frequency</th>\n",
       "      <th>Monetary</th>\n",
       "    </tr>\n",
       "  </thead>\n",
       "  <tbody>\n",
       "    <tr>\n",
       "      <th>0</th>\n",
       "      <td>12346.0</td>\n",
       "      <td>325</td>\n",
       "      <td>1</td>\n",
       "      <td>77183.60</td>\n",
       "    </tr>\n",
       "    <tr>\n",
       "      <th>1</th>\n",
       "      <td>12347.0</td>\n",
       "      <td>1</td>\n",
       "      <td>182</td>\n",
       "      <td>4310.00</td>\n",
       "    </tr>\n",
       "    <tr>\n",
       "      <th>2</th>\n",
       "      <td>12348.0</td>\n",
       "      <td>74</td>\n",
       "      <td>31</td>\n",
       "      <td>1797.24</td>\n",
       "    </tr>\n",
       "    <tr>\n",
       "      <th>3</th>\n",
       "      <td>12349.0</td>\n",
       "      <td>18</td>\n",
       "      <td>73</td>\n",
       "      <td>1757.55</td>\n",
       "    </tr>\n",
       "    <tr>\n",
       "      <th>4</th>\n",
       "      <td>12350.0</td>\n",
       "      <td>309</td>\n",
       "      <td>17</td>\n",
       "      <td>334.40</td>\n",
       "    </tr>\n",
       "  </tbody>\n",
       "</table>\n",
       "</div>"
      ],
      "text/plain": [
       "   CustomerId  Recency  Frequency  Monetary\n",
       "0     12346.0      325          1  77183.60\n",
       "1     12347.0        1        182   4310.00\n",
       "2     12348.0       74         31   1797.24\n",
       "3     12349.0       18         73   1757.55\n",
       "4     12350.0      309         17    334.40"
      ]
     },
     "execution_count": 24,
     "metadata": {},
     "output_type": "execute_result"
    }
   ],
   "source": [
    "rfm.head()"
   ]
  },
  {
   "cell_type": "markdown",
   "id": "7360a0ce",
   "metadata": {},
   "source": [
    "## Outlier Detection"
   ]
  },
  {
   "cell_type": "code",
   "execution_count": 25,
   "id": "dd43e631",
   "metadata": {},
   "outputs": [
    {
     "data": {
      "image/png": "[encoded data removed]",
      "text/plain": [
       "<Figure size 864x432 with 1 Axes>"
      ]
     },
     "metadata": {
      "needs_background": "light"
     },
     "output_type": "display_data"
    }
   ],
   "source": [
    "# To detect the outlier in the dataset i will use the box plot\n",
    "#Outlier Detection\n",
    "plt.figure(figsize=(12,6))\n",
    "plt.boxplot(rfm[['Recency','Frequency','Monetary']])\n",
    "plt.xlabel('Attributes',fontsize=12)\n",
    "plt.ylabel('Range',fontsize=12)\n",
    "plt.show()"
   ]
  },
  {
   "cell_type": "markdown",
   "id": "43e697b0",
   "metadata": {},
   "source": [
    "### Recency"
   ]
  },
  {
   "cell_type": "code",
   "execution_count": 26,
   "id": "b345b470",
   "metadata": {},
   "outputs": [
    {
     "data": {
      "image/png": "[encoded data removed]",
      "text/plain": [
       "<Figure size 864x432 with 1 Axes>"
      ]
     },
     "metadata": {
      "needs_background": "light"
     },
     "output_type": "display_data"
    }
   ],
   "source": [
    "plt.figure(figsize=(12,6))\n",
    "plt.boxplot(rfm['Recency'])\n",
    "plt.xlabel('Attributes',fontsize=12)\n",
    "plt.ylabel('Range',fontsize=12)\n",
    "plt.show()"
   ]
  },
  {
   "cell_type": "code",
   "execution_count": 27,
   "id": "6a38d2a6",
   "metadata": {},
   "outputs": [
    {
     "data": {
      "image/png": "[encoded data removed]",
      "text/plain": [
       "<Figure size 864x432 with 1 Axes>"
      ]
     },
     "metadata": {
      "needs_background": "light"
     },
     "output_type": "display_data"
    }
   ],
   "source": [
    "plt.figure(figsize=(12,6))\n",
    "plt.hist(rfm['Recency'])\n",
    "plt.xlabel('Attributes',fontsize=12)\n",
    "plt.ylabel('Range',fontsize=12)\n",
    "plt.show()"
   ]
  },
  {
   "cell_type": "markdown",
   "id": "27b1ce98",
   "metadata": {},
   "source": [
    "### Frequency"
   ]
  },
  {
   "cell_type": "code",
   "execution_count": 28,
   "id": "d45cf2c4",
   "metadata": {},
   "outputs": [
    {
     "data": {
      "image/png": "[encoded data removed]",
      "text/plain": [
       "<Figure size 864x432 with 1 Axes>"
      ]
     },
     "metadata": {
      "needs_background": "light"
     },
     "output_type": "display_data"
    }
   ],
   "source": [
    "plt.figure(figsize=(12,6))\n",
    "plt.boxplot(rfm['Frequency'])\n",
    "plt.xlabel('Attributes',fontsize=12)\n",
    "plt.ylabel('Range',fontsize=12)\n",
    "plt.show()"
   ]
  },
  {
   "cell_type": "code",
   "execution_count": 29,
   "id": "458f9590",
   "metadata": {},
   "outputs": [
    {
     "data": {
      "image/png": "[encoded data removed]",
      "text/plain": [
       "<Figure size 864x432 with 1 Axes>"
      ]
     },
     "metadata": {
      "needs_background": "light"
     },
     "output_type": "display_data"
    }
   ],
   "source": [
    "plt.figure(figsize=(12,6))\n",
    "plt.hist(rfm['Frequency'])\n",
    "plt.xlabel('Attributes',fontsize=12)\n",
    "plt.ylabel('Range',fontsize=12)\n",
    "plt.show()"
   ]
  },
  {
   "cell_type": "markdown",
   "id": "42d86897",
   "metadata": {},
   "source": [
    "### Monetary"
   ]
  },
  {
   "cell_type": "code",
   "execution_count": 30,
   "id": "6befccdc",
   "metadata": {},
   "outputs": [
    {
     "data": {
      "image/png": "[encoded data removed]",
      "text/plain": [
       "<Figure size 864x432 with 1 Axes>"
      ]
     },
     "metadata": {
      "needs_background": "light"
     },
     "output_type": "display_data"
    }
   ],
   "source": [
    "plt.figure(figsize=(12,6))\n",
    "plt.boxplot(rfm['Monetary'])\n",
    "plt.xlabel('Attributes',fontsize=12)\n",
    "plt.ylabel('Range',fontsize=12)\n",
    "plt.show()"
   ]
  },
  {
   "cell_type": "code",
   "execution_count": 31,
   "id": "fa5d776b",
   "metadata": {},
   "outputs": [
    {
     "data": {
      "image/png": "[encoded data removed]",
      "text/plain": [
       "<Figure size 864x432 with 1 Axes>"
      ]
     },
     "metadata": {
      "needs_background": "light"
     },
     "output_type": "display_data"
    }
   ],
   "source": [
    "plt.figure(figsize=(12,6))\n",
    "plt.hist(rfm['Monetary'])\n",
    "plt.xlabel('Attributes',fontsize=12)\n",
    "plt.ylabel('Range',fontsize=12)\n",
    "plt.show()"
   ]
  },
  {
   "cell_type": "markdown",
   "id": "6fa7df47",
   "metadata": {},
   "source": [
    "* It is clealry visible from the graph that there is a outlier present in the dataset, i need to handle this outlier else it will affect my prediction"
   ]
  },
  {
   "cell_type": "markdown",
   "id": "db44b09f",
   "metadata": {},
   "source": [
    "### Handle outliers using IQR"
   ]
  },
  {
   "cell_type": "code",
   "execution_count": 32,
   "id": "33eb29f6",
   "metadata": {},
   "outputs": [],
   "source": [
    "# Function to find the lower limit and upper limit\n",
    "def find_boundries(df,variable):\n",
    "    Q1=df[variable].quantile(0.25)\n",
    "    Q3=df[variable].quantile(0.75)\n",
    "    IQR=Q3-Q1\n",
    "    lower_limit=Q1-1.5*IQR\n",
    "    upper_limit=Q3+1.5*IQR\n",
    "    \n",
    "    return lower_limit, upper_limit"
   ]
  },
  {
   "cell_type": "markdown",
   "id": "aa0ecbde",
   "metadata": {},
   "source": [
    "### Monetary"
   ]
  },
  {
   "cell_type": "code",
   "execution_count": 33,
   "id": "1e0dec21",
   "metadata": {},
   "outputs": [],
   "source": [
    "lower_limit_monetary,upper_limit_monetary=find_boundries(rfm,'Monetary')"
   ]
  },
  {
   "cell_type": "code",
   "execution_count": 34,
   "id": "84e86eef",
   "metadata": {},
   "outputs": [
    {
     "data": {
      "text/plain": [
       "(-1724.3474999999999, 3693.2325)"
      ]
     },
     "execution_count": 34,
     "metadata": {},
     "output_type": "execute_result"
    }
   ],
   "source": [
    "lower_limit_monetary,upper_limit_monetary"
   ]
  },
  {
   "cell_type": "code",
   "execution_count": 35,
   "id": "f67e1f25",
   "metadata": {},
   "outputs": [],
   "source": [
    "rfm_new=rfm[(rfm['Monetary']>lower_limit_monetary) & (rfm['Monetary']<upper_limit_monetary)]"
   ]
  },
  {
   "cell_type": "code",
   "execution_count": 36,
   "id": "26f747ab",
   "metadata": {},
   "outputs": [
    {
     "data": {
      "text/html": [
       "<div>\n",
       "<style scoped>\n",
       "    .dataframe tbody tr th:only-of-type {\n",
       "        vertical-align: middle;\n",
       "    }\n",
       "\n",
       "    .dataframe tbody tr th {\n",
       "        vertical-align: top;\n",
       "    }\n",
       "\n",
       "    .dataframe thead th {\n",
       "        text-align: right;\n",
       "    }\n",
       "</style>\n",
       "<table border=\"1\" class=\"dataframe\">\n",
       "  <thead>\n",
       "    <tr style=\"text-align: right;\">\n",
       "      <th></th>\n",
       "      <th>CustomerId</th>\n",
       "      <th>Recency</th>\n",
       "      <th>Frequency</th>\n",
       "      <th>Monetary</th>\n",
       "    </tr>\n",
       "  </thead>\n",
       "  <tbody>\n",
       "    <tr>\n",
       "      <th>0</th>\n",
       "      <td>12348.0</td>\n",
       "      <td>74</td>\n",
       "      <td>31</td>\n",
       "      <td>1797.24</td>\n",
       "    </tr>\n",
       "    <tr>\n",
       "      <th>1</th>\n",
       "      <td>12349.0</td>\n",
       "      <td>18</td>\n",
       "      <td>73</td>\n",
       "      <td>1757.55</td>\n",
       "    </tr>\n",
       "    <tr>\n",
       "      <th>2</th>\n",
       "      <td>12350.0</td>\n",
       "      <td>309</td>\n",
       "      <td>17</td>\n",
       "      <td>334.40</td>\n",
       "    </tr>\n",
       "    <tr>\n",
       "      <th>3</th>\n",
       "      <td>12352.0</td>\n",
       "      <td>35</td>\n",
       "      <td>85</td>\n",
       "      <td>2506.04</td>\n",
       "    </tr>\n",
       "    <tr>\n",
       "      <th>4</th>\n",
       "      <td>12353.0</td>\n",
       "      <td>203</td>\n",
       "      <td>4</td>\n",
       "      <td>89.00</td>\n",
       "    </tr>\n",
       "  </tbody>\n",
       "</table>\n",
       "</div>"
      ],
      "text/plain": [
       "   CustomerId  Recency  Frequency  Monetary\n",
       "0     12348.0       74         31   1797.24\n",
       "1     12349.0       18         73   1757.55\n",
       "2     12350.0      309         17    334.40\n",
       "3     12352.0       35         85   2506.04\n",
       "4     12353.0      203          4     89.00"
      ]
     },
     "execution_count": 36,
     "metadata": {},
     "output_type": "execute_result"
    }
   ],
   "source": [
    "rfm_new=rfm_new.reset_index(drop=True)\n",
    "rfm_new.head()"
   ]
  },
  {
   "cell_type": "markdown",
   "id": "e3cf3d98",
   "metadata": {},
   "source": [
    "### Recency"
   ]
  },
  {
   "cell_type": "code",
   "execution_count": 37,
   "id": "61201af9",
   "metadata": {},
   "outputs": [],
   "source": [
    "lower_limit_monetary,upper_limit_monetary=find_boundries(rfm_new,'Recency')"
   ]
  },
  {
   "cell_type": "code",
   "execution_count": 38,
   "id": "0ac211b2",
   "metadata": {},
   "outputs": [
    {
     "data": {
      "text/plain": [
       "(-183.0, 361.0)"
      ]
     },
     "execution_count": 38,
     "metadata": {},
     "output_type": "execute_result"
    }
   ],
   "source": [
    "lower_limit_monetary,upper_limit_monetary"
   ]
  },
  {
   "cell_type": "code",
   "execution_count": 39,
   "id": "b9cea1c6",
   "metadata": {},
   "outputs": [],
   "source": [
    "rfm_new=rfm_new[(rfm_new['Recency']>lower_limit_monetary) & (rfm_new['Recency']<upper_limit_monetary)]"
   ]
  },
  {
   "cell_type": "code",
   "execution_count": 40,
   "id": "ac4363ca",
   "metadata": {},
   "outputs": [
    {
     "data": {
      "text/html": [
       "<div>\n",
       "<style scoped>\n",
       "    .dataframe tbody tr th:only-of-type {\n",
       "        vertical-align: middle;\n",
       "    }\n",
       "\n",
       "    .dataframe tbody tr th {\n",
       "        vertical-align: top;\n",
       "    }\n",
       "\n",
       "    .dataframe thead th {\n",
       "        text-align: right;\n",
       "    }\n",
       "</style>\n",
       "<table border=\"1\" class=\"dataframe\">\n",
       "  <thead>\n",
       "    <tr style=\"text-align: right;\">\n",
       "      <th></th>\n",
       "      <th>CustomerId</th>\n",
       "      <th>Recency</th>\n",
       "      <th>Frequency</th>\n",
       "      <th>Monetary</th>\n",
       "    </tr>\n",
       "  </thead>\n",
       "  <tbody>\n",
       "    <tr>\n",
       "      <th>0</th>\n",
       "      <td>12348.0</td>\n",
       "      <td>74</td>\n",
       "      <td>31</td>\n",
       "      <td>1797.24</td>\n",
       "    </tr>\n",
       "    <tr>\n",
       "      <th>1</th>\n",
       "      <td>12349.0</td>\n",
       "      <td>18</td>\n",
       "      <td>73</td>\n",
       "      <td>1757.55</td>\n",
       "    </tr>\n",
       "    <tr>\n",
       "      <th>2</th>\n",
       "      <td>12350.0</td>\n",
       "      <td>309</td>\n",
       "      <td>17</td>\n",
       "      <td>334.40</td>\n",
       "    </tr>\n",
       "    <tr>\n",
       "      <th>3</th>\n",
       "      <td>12352.0</td>\n",
       "      <td>35</td>\n",
       "      <td>85</td>\n",
       "      <td>2506.04</td>\n",
       "    </tr>\n",
       "    <tr>\n",
       "      <th>4</th>\n",
       "      <td>12353.0</td>\n",
       "      <td>203</td>\n",
       "      <td>4</td>\n",
       "      <td>89.00</td>\n",
       "    </tr>\n",
       "  </tbody>\n",
       "</table>\n",
       "</div>"
      ],
      "text/plain": [
       "   CustomerId  Recency  Frequency  Monetary\n",
       "0     12348.0       74         31   1797.24\n",
       "1     12349.0       18         73   1757.55\n",
       "2     12350.0      309         17    334.40\n",
       "3     12352.0       35         85   2506.04\n",
       "4     12353.0      203          4     89.00"
      ]
     },
     "execution_count": 40,
     "metadata": {},
     "output_type": "execute_result"
    }
   ],
   "source": [
    "rfm_new=rfm_new.reset_index(drop=True)\n",
    "rfm_new.head()"
   ]
  },
  {
   "cell_type": "markdown",
   "id": "998d87e3",
   "metadata": {},
   "source": [
    "## Frequency"
   ]
  },
  {
   "cell_type": "code",
   "execution_count": 41,
   "id": "08dcf198",
   "metadata": {},
   "outputs": [],
   "source": [
    "lower_limit_monetary,upper_limit_monetary=find_boundries(rfm_new,'Frequency')"
   ]
  },
  {
   "cell_type": "code",
   "execution_count": 42,
   "id": "83beaf9f",
   "metadata": {},
   "outputs": [
    {
     "data": {
      "text/plain": [
       "(-81.5, 178.5)"
      ]
     },
     "execution_count": 42,
     "metadata": {},
     "output_type": "execute_result"
    }
   ],
   "source": [
    "lower_limit_monetary,upper_limit_monetary"
   ]
  },
  {
   "cell_type": "code",
   "execution_count": 43,
   "id": "4bd8c662",
   "metadata": {},
   "outputs": [],
   "source": [
    "rfm_new=rfm_new[(rfm_new['Frequency']>lower_limit_monetary) & (rfm_new['Frequency']<upper_limit_monetary)]"
   ]
  },
  {
   "cell_type": "code",
   "execution_count": 44,
   "id": "ac72dc39",
   "metadata": {},
   "outputs": [
    {
     "data": {
      "text/html": [
       "<div>\n",
       "<style scoped>\n",
       "    .dataframe tbody tr th:only-of-type {\n",
       "        vertical-align: middle;\n",
       "    }\n",
       "\n",
       "    .dataframe tbody tr th {\n",
       "        vertical-align: top;\n",
       "    }\n",
       "\n",
       "    .dataframe thead th {\n",
       "        text-align: right;\n",
       "    }\n",
       "</style>\n",
       "<table border=\"1\" class=\"dataframe\">\n",
       "  <thead>\n",
       "    <tr style=\"text-align: right;\">\n",
       "      <th></th>\n",
       "      <th>CustomerId</th>\n",
       "      <th>Recency</th>\n",
       "      <th>Frequency</th>\n",
       "      <th>Monetary</th>\n",
       "    </tr>\n",
       "  </thead>\n",
       "  <tbody>\n",
       "    <tr>\n",
       "      <th>0</th>\n",
       "      <td>12348.0</td>\n",
       "      <td>74</td>\n",
       "      <td>31</td>\n",
       "      <td>1797.24</td>\n",
       "    </tr>\n",
       "    <tr>\n",
       "      <th>1</th>\n",
       "      <td>12349.0</td>\n",
       "      <td>18</td>\n",
       "      <td>73</td>\n",
       "      <td>1757.55</td>\n",
       "    </tr>\n",
       "    <tr>\n",
       "      <th>2</th>\n",
       "      <td>12350.0</td>\n",
       "      <td>309</td>\n",
       "      <td>17</td>\n",
       "      <td>334.40</td>\n",
       "    </tr>\n",
       "    <tr>\n",
       "      <th>3</th>\n",
       "      <td>12352.0</td>\n",
       "      <td>35</td>\n",
       "      <td>85</td>\n",
       "      <td>2506.04</td>\n",
       "    </tr>\n",
       "    <tr>\n",
       "      <th>4</th>\n",
       "      <td>12353.0</td>\n",
       "      <td>203</td>\n",
       "      <td>4</td>\n",
       "      <td>89.00</td>\n",
       "    </tr>\n",
       "  </tbody>\n",
       "</table>\n",
       "</div>"
      ],
      "text/plain": [
       "   CustomerId  Recency  Frequency  Monetary\n",
       "0     12348.0       74         31   1797.24\n",
       "1     12349.0       18         73   1757.55\n",
       "2     12350.0      309         17    334.40\n",
       "3     12352.0       35         85   2506.04\n",
       "4     12353.0      203          4     89.00"
      ]
     },
     "execution_count": 44,
     "metadata": {},
     "output_type": "execute_result"
    }
   ],
   "source": [
    "rfm_new=rfm_new.reset_index(drop=True)\n",
    "rfm_new.head()"
   ]
  },
  {
   "cell_type": "code",
   "execution_count": 45,
   "id": "014bf526",
   "metadata": {},
   "outputs": [
    {
     "data": {
      "text/plain": [
       "(3582, 4)"
      ]
     },
     "execution_count": 45,
     "metadata": {},
     "output_type": "execute_result"
    }
   ],
   "source": [
    "rfm_new.shape"
   ]
  },
  {
   "cell_type": "markdown",
   "id": "62820cdc",
   "metadata": {},
   "source": [
    "### Box plot after cleaning the dataset"
   ]
  },
  {
   "cell_type": "code",
   "execution_count": 46,
   "id": "4ee8363b",
   "metadata": {},
   "outputs": [
    {
     "data": {
      "image/png": "[encoded data removed]",
      "text/plain": [
       "<Figure size 864x432 with 1 Axes>"
      ]
     },
     "metadata": {
      "needs_background": "light"
     },
     "output_type": "display_data"
    }
   ],
   "source": [
    "#Outlier Detection\n",
    "plt.figure(figsize=(12,6))\n",
    "plt.boxplot(rfm_new[['Recency','Frequency','Monetary']])\n",
    "plt.xlabel('Attributes',fontsize=12)\n",
    "plt.ylabel('Range',fontsize=12)\n",
    "plt.show()"
   ]
  },
  {
   "cell_type": "markdown",
   "id": "ae459d30",
   "metadata": {},
   "source": [
    "## K-Mean"
   ]
  },
  {
   "cell_type": "code",
   "execution_count": 47,
   "id": "d4695831",
   "metadata": {},
   "outputs": [
    {
     "data": {
      "text/html": [
       "<div>\n",
       "<style scoped>\n",
       "    .dataframe tbody tr th:only-of-type {\n",
       "        vertical-align: middle;\n",
       "    }\n",
       "\n",
       "    .dataframe tbody tr th {\n",
       "        vertical-align: top;\n",
       "    }\n",
       "\n",
       "    .dataframe thead th {\n",
       "        text-align: right;\n",
       "    }\n",
       "</style>\n",
       "<table border=\"1\" class=\"dataframe\">\n",
       "  <thead>\n",
       "    <tr style=\"text-align: right;\">\n",
       "      <th></th>\n",
       "      <th>Recency</th>\n",
       "      <th>Frequency</th>\n",
       "      <th>Monetary</th>\n",
       "    </tr>\n",
       "  </thead>\n",
       "  <tbody>\n",
       "    <tr>\n",
       "      <th>0</th>\n",
       "      <td>74</td>\n",
       "      <td>31</td>\n",
       "      <td>1797.24</td>\n",
       "    </tr>\n",
       "    <tr>\n",
       "      <th>1</th>\n",
       "      <td>18</td>\n",
       "      <td>73</td>\n",
       "      <td>1757.55</td>\n",
       "    </tr>\n",
       "    <tr>\n",
       "      <th>2</th>\n",
       "      <td>309</td>\n",
       "      <td>17</td>\n",
       "      <td>334.40</td>\n",
       "    </tr>\n",
       "    <tr>\n",
       "      <th>3</th>\n",
       "      <td>35</td>\n",
       "      <td>85</td>\n",
       "      <td>2506.04</td>\n",
       "    </tr>\n",
       "    <tr>\n",
       "      <th>4</th>\n",
       "      <td>203</td>\n",
       "      <td>4</td>\n",
       "      <td>89.00</td>\n",
       "    </tr>\n",
       "    <tr>\n",
       "      <th>...</th>\n",
       "      <td>...</td>\n",
       "      <td>...</td>\n",
       "      <td>...</td>\n",
       "    </tr>\n",
       "    <tr>\n",
       "      <th>3577</th>\n",
       "      <td>73</td>\n",
       "      <td>9</td>\n",
       "      <td>173.90</td>\n",
       "    </tr>\n",
       "    <tr>\n",
       "      <th>3578</th>\n",
       "      <td>277</td>\n",
       "      <td>10</td>\n",
       "      <td>180.60</td>\n",
       "    </tr>\n",
       "    <tr>\n",
       "      <th>3579</th>\n",
       "      <td>180</td>\n",
       "      <td>7</td>\n",
       "      <td>80.82</td>\n",
       "    </tr>\n",
       "    <tr>\n",
       "      <th>3580</th>\n",
       "      <td>7</td>\n",
       "      <td>12</td>\n",
       "      <td>178.05</td>\n",
       "    </tr>\n",
       "    <tr>\n",
       "      <th>3581</th>\n",
       "      <td>42</td>\n",
       "      <td>70</td>\n",
       "      <td>1837.28</td>\n",
       "    </tr>\n",
       "  </tbody>\n",
       "</table>\n",
       "<p>3582 rows × 3 columns</p>\n",
       "</div>"
      ],
      "text/plain": [
       "      Recency  Frequency  Monetary\n",
       "0          74         31   1797.24\n",
       "1          18         73   1757.55\n",
       "2         309         17    334.40\n",
       "3          35         85   2506.04\n",
       "4         203          4     89.00\n",
       "...       ...        ...       ...\n",
       "3577       73          9    173.90\n",
       "3578      277         10    180.60\n",
       "3579      180          7     80.82\n",
       "3580        7         12    178.05\n",
       "3581       42         70   1837.28\n",
       "\n",
       "[3582 rows x 3 columns]"
      ]
     },
     "execution_count": 47,
     "metadata": {},
     "output_type": "execute_result"
    }
   ],
   "source": [
    "scaler=StandardScaler()\n",
    "rfm_normalized=rfm_new[['Recency','Frequency','Monetary']]\n",
    "rfm_normalized"
   ]
  },
  {
   "cell_type": "code",
   "execution_count": 48,
   "id": "c1d0ee46",
   "metadata": {},
   "outputs": [
    {
     "data": {
      "text/html": [
       "<div>\n",
       "<style scoped>\n",
       "    .dataframe tbody tr th:only-of-type {\n",
       "        vertical-align: middle;\n",
       "    }\n",
       "\n",
       "    .dataframe tbody tr th {\n",
       "        vertical-align: top;\n",
       "    }\n",
       "\n",
       "    .dataframe thead th {\n",
       "        text-align: right;\n",
       "    }\n",
       "</style>\n",
       "<table border=\"1\" class=\"dataframe\">\n",
       "  <thead>\n",
       "    <tr style=\"text-align: right;\">\n",
       "      <th></th>\n",
       "      <th>0</th>\n",
       "      <th>1</th>\n",
       "      <th>2</th>\n",
       "    </tr>\n",
       "  </thead>\n",
       "  <tbody>\n",
       "    <tr>\n",
       "      <th>0</th>\n",
       "      <td>-0.243214</td>\n",
       "      <td>-0.385025</td>\n",
       "      <td>1.292084</td>\n",
       "    </tr>\n",
       "    <tr>\n",
       "      <th>1</th>\n",
       "      <td>-0.830284</td>\n",
       "      <td>0.629241</td>\n",
       "      <td>1.239811</td>\n",
       "    </tr>\n",
       "    <tr>\n",
       "      <th>2</th>\n",
       "      <td>2.220385</td>\n",
       "      <td>-0.723114</td>\n",
       "      <td>-0.634526</td>\n",
       "    </tr>\n",
       "    <tr>\n",
       "      <th>3</th>\n",
       "      <td>-0.652066</td>\n",
       "      <td>0.919031</td>\n",
       "      <td>2.225598</td>\n",
       "    </tr>\n",
       "    <tr>\n",
       "      <th>4</th>\n",
       "      <td>1.109145</td>\n",
       "      <td>-1.037053</td>\n",
       "      <td>-0.957727</td>\n",
       "    </tr>\n",
       "    <tr>\n",
       "      <th>...</th>\n",
       "      <td>...</td>\n",
       "      <td>...</td>\n",
       "      <td>...</td>\n",
       "    </tr>\n",
       "    <tr>\n",
       "      <th>3577</th>\n",
       "      <td>-0.253697</td>\n",
       "      <td>-0.916307</td>\n",
       "      <td>-0.845911</td>\n",
       "    </tr>\n",
       "    <tr>\n",
       "      <th>3578</th>\n",
       "      <td>1.884916</td>\n",
       "      <td>-0.892158</td>\n",
       "      <td>-0.837086</td>\n",
       "    </tr>\n",
       "    <tr>\n",
       "      <th>3579</th>\n",
       "      <td>0.868027</td>\n",
       "      <td>-0.964606</td>\n",
       "      <td>-0.968500</td>\n",
       "    </tr>\n",
       "    <tr>\n",
       "      <th>3580</th>\n",
       "      <td>-0.945601</td>\n",
       "      <td>-0.843860</td>\n",
       "      <td>-0.840445</td>\n",
       "    </tr>\n",
       "    <tr>\n",
       "      <th>3581</th>\n",
       "      <td>-0.578682</td>\n",
       "      <td>0.556793</td>\n",
       "      <td>1.344818</td>\n",
       "    </tr>\n",
       "  </tbody>\n",
       "</table>\n",
       "<p>3582 rows × 3 columns</p>\n",
       "</div>"
      ],
      "text/plain": [
       "             0         1         2\n",
       "0    -0.243214 -0.385025  1.292084\n",
       "1    -0.830284  0.629241  1.239811\n",
       "2     2.220385 -0.723114 -0.634526\n",
       "3    -0.652066  0.919031  2.225598\n",
       "4     1.109145 -1.037053 -0.957727\n",
       "...        ...       ...       ...\n",
       "3577 -0.253697 -0.916307 -0.845911\n",
       "3578  1.884916 -0.892158 -0.837086\n",
       "3579  0.868027 -0.964606 -0.968500\n",
       "3580 -0.945601 -0.843860 -0.840445\n",
       "3581 -0.578682  0.556793  1.344818\n",
       "\n",
       "[3582 rows x 3 columns]"
      ]
     },
     "execution_count": 48,
     "metadata": {},
     "output_type": "execute_result"
    }
   ],
   "source": [
    "rfm_normalized=scaler.fit_transform(rfm_normalized)\n",
    "rfm_normalized=pd.DataFrame(rfm_normalized)\n",
    "rfm_normalized"
   ]
  },
  {
   "cell_type": "code",
   "execution_count": 49,
   "id": "3fc8f2b6",
   "metadata": {},
   "outputs": [
    {
     "data": {
      "text/plain": [
       "Text(0, 0.5, 'Range')"
      ]
     },
     "execution_count": 49,
     "metadata": {},
     "output_type": "execute_result"
    },
    {
     "data": {
      "image/png": "[encoded data removed]",
      "text/plain": [
       "<Figure size 864x432 with 1 Axes>"
      ]
     },
     "metadata": {
      "needs_background": "light"
     },
     "output_type": "display_data"
    }
   ],
   "source": [
    "plt.figure(figsize=(12,6))\n",
    "plt.boxplot(rfm_normalized)\n",
    "plt.xlabel('Attributes',fontsize=12)\n",
    "plt.ylabel('Range',fontsize=12)"
   ]
  },
  {
   "cell_type": "code",
   "execution_count": 50,
   "id": "cff1e73a",
   "metadata": {},
   "outputs": [],
   "source": [
    "wcss=[]\n",
    "for num_cluster in range(1,10):\n",
    "    kmeans=KMeans(n_clusters=num_cluster,max_iter=50)\n",
    "    kmeans.fit(rfm_normalized)\n",
    "    wcss.append(kmeans.inertia_)\n",
    "    "
   ]
  },
  {
   "cell_type": "code",
   "execution_count": 51,
   "id": "edca3b4d",
   "metadata": {},
   "outputs": [
    {
     "data": {
      "text/plain": [
       "Text(0, 0.5, 'wcss')"
      ]
     },
     "execution_count": 51,
     "metadata": {},
     "output_type": "execute_result"
    },
    {
     "data": {
      "image/png": "[encoded data removed]",
      "text/plain": [
       "<Figure size 864x432 with 1 Axes>"
      ]
     },
     "metadata": {
      "needs_background": "light"
     },
     "output_type": "display_data"
    }
   ],
   "source": [
    "x=list(range(1,10))\n",
    "plt.figure(figsize=(12,6))\n",
    "plt.plot(x,wcss)\n",
    "plt.xlabel('Number of cluster',fontsize=12)\n",
    "plt.ylabel('wcss',fontsize=12)"
   ]
  },
  {
   "cell_type": "markdown",
   "id": "d7cbdfd3",
   "metadata": {},
   "source": [
    "* From the elbow method it is clear that the optimum number of cluster is three "
   ]
  },
  {
   "cell_type": "markdown",
   "id": "e8746f7d",
   "metadata": {},
   "source": [
    "##  Conclusion: Total number of customer segment is THREE"
   ]
  }
 ],
 "metadata": {
  "kernelspec": {
   "display_name": "Python 3 (ipykernel)",
   "language": "python",
   "name": "python3"
  },
  "language_info": {
   "codemirror_mode": {
    "name": "ipython",
    "version": 3
   },
   "file_extension": ".py",
   "mimetype": "text/x-python",
   "name": "python",
   "nbconvert_exporter": "python",
   "pygments_lexer": "ipython3",
   "version": "3.9.12"
  }
 },
 "nbformat": 4,
 "nbformat_minor": 5
}
